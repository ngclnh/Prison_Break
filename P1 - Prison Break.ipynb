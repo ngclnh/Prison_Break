{
 "cells": [
  {
   "cell_type": "code",
   "execution_count": 43,
   "id": "9bf9b747",
   "metadata": {},
   "outputs": [],
   "source": [
    "import pandas as pd\n",
    "import re"
   ]
  },
  {
   "cell_type": "markdown",
   "id": "928f98d7",
   "metadata": {},
   "source": [
    "Helper functions: "
   ]
  },
  {
   "cell_type": "code",
   "execution_count": 13,
   "id": "8578844e",
   "metadata": {},
   "outputs": [],
   "source": [
    "# Collect data from url -- return data as list\n",
    "def data_url(url_str):\n",
    "    data_frame = pd.read_html(url)[1]\n",
    "    df_to_list = data_frame.to_numpy().tolist()\n",
    "    return df_to_list  "
   ]
  },
  {
   "cell_type": "code",
   "execution_count": 19,
   "id": "89cfd544",
   "metadata": {},
   "outputs": [],
   "source": [
    "# Collect the year with pattern: Aug 19, 1971 -- return as int\n",
    "pattern ='\\d{4}' #year\n",
    "def get_year(date_str):\n",
    "    return int(re.findall(pattern, date_str)[0])\n",
    "    "
   ]
  },
  {
   "cell_type": "code",
   "execution_count": 20,
   "id": "bb84fd31",
   "metadata": {},
   "outputs": [],
   "source": [
    "url = 'https://en.wikipedia.org/wiki/List_of_helicopter_prison_escapes'\n",
    "data = data_url(url)"
   ]
  },
  {
   "cell_type": "code",
   "execution_count": 21,
   "id": "a90f0418",
   "metadata": {},
   "outputs": [
    {
     "name": "stdout",
     "output_type": "stream",
     "text": [
      "['August 19, 1971', 'Santa Martha Acatitla', 'Mexico', 'Yes', 'Joel David Kaplan Carlos Antonio Contreras Castro', \"Joel David Kaplan was a New York businessman who had been arrested for murder in 1962 in Mexico City and was incarcerated at the Santa Martha Acatitla prison in the Iztapalapa borough of Mexico City. Joel's sister, Judy Kaplan, arranged the means to help Kaplan escape, and on August 19, 1971, a helicopter landed in the prison yard. The guards mistakenly thought this was an official visit. In two minutes, Kaplan and his cellmate Carlos Antonio Contreras, a Venezuelan counterfeiter, were able to board the craft and were piloted away, before any shots were fired.[9] Both men were flown to Texas and then different planes flew Kaplan to California and Contreras to Guatemala.[3] The Mexican government never initiated extradition proceedings against Kaplan.[9] The escape is told in a book, The 10-Second Jailbreak: The Helicopter Escape of Joel David Kaplan.[4] It also inspired the 1975 action movie Breakout, which starred Charles Bronson and Robert Duvall.[9]\"]\n",
      "['October 31, 1973', 'Mountjoy Jail', 'Ireland', 'Yes', \"JB O'Hagan Seamus Twomey Kevin Mallon\", 'On October 31, 1973, an IRA member hijacked a helicopter and forced the pilot to land in the exercise yard of Dublin\\'s Mountjoy Jail\\'s D Wing at 3:40\\xa0p.m., October 31, 1973. Three members of the IRA were able to escape: JB O\\'Hagan, Seamus Twomey and Kevin Mallon. Another prisoner who also was in the prison was quoted as saying, \"One shamefaced screw apologised to the governor and said he thought it was the new Minister for Defence (Paddy Donegan) arriving. I told him it was our Minister of Defence leaving.\" The Mountjoy helicopter escape became Republican lore and was immortalized by \"The Helicopter Song\", which contains the lines \"It\\'s up like a bird and over the city. There\\'s three men a\\'missing I heard the warder say\".[1]']\n",
      "['May 24, 1978', 'United States Penitentiary, Marion', 'United States', 'No', 'Garrett Brock Trapnell Martin Joseph McNally James Kenneth Johnson', \"43-year-old Barbara Ann Oswald hijacked a Saint Louis-based charter helicopter and forced the pilot to land in the yard at USP Marion. While landing the aircraft, the pilot, Allen Barklage, who was a Vietnam War veteran, struggled with Oswald and managed to wrestle the gun away from her. Barklage then shot and killed Oswald, thwarting the escape.[10] A few months later Oswald's daughter hijacked TWA Flight 541 in an effort to free Trapnell.\"]\n"
     ]
    }
   ],
   "source": [
    "for row in data[:3]:\n",
    "    print(row)"
   ]
  },
  {
   "cell_type": "code",
   "execution_count": 22,
   "id": "b8f00f0a",
   "metadata": {},
   "outputs": [
    {
     "name": "stdout",
     "output_type": "stream",
     "text": [
      "[['August 19, 1971', 'Santa Martha Acatitla', 'Mexico', 'Yes', 'Joel David Kaplan Carlos Antonio Contreras Castro'], ['October 31, 1973', 'Mountjoy Jail', 'Ireland', 'Yes', \"JB O'Hagan Seamus Twomey Kevin Mallon\"], ['May 24, 1978', 'United States Penitentiary, Marion', 'United States', 'No', 'Garrett Brock Trapnell Martin Joseph McNally James Kenneth Johnson']]\n"
     ]
    }
   ],
   "source": [
    "index = 0\n",
    "for row in data:\n",
    "    data[index] = row[:-1]\n",
    "    index += 1\n",
    "\n",
    "print(data[:3])"
   ]
  },
  {
   "cell_type": "code",
   "execution_count": 23,
   "id": "7101ec7e",
   "metadata": {},
   "outputs": [
    {
     "name": "stdout",
     "output_type": "stream",
     "text": [
      "[[1971, 'Santa Martha Acatitla', 'Mexico', 'Yes', 'Joel David Kaplan Carlos Antonio Contreras Castro'], [1973, 'Mountjoy Jail', 'Ireland', 'Yes', \"JB O'Hagan Seamus Twomey Kevin Mallon\"], [1978, 'United States Penitentiary, Marion', 'United States', 'No', 'Garrett Brock Trapnell Martin Joseph McNally James Kenneth Johnson']]\n"
     ]
    }
   ],
   "source": [
    "for row in data:\n",
    "    row[0] = get_year(row[0])\n",
    "    \n",
    "print(data[:3])"
   ]
  },
  {
   "cell_type": "code",
   "execution_count": 29,
   "id": "fe16dd5f",
   "metadata": {},
   "outputs": [],
   "source": [
    "# Generate a list of years from the first attempt to the last \n",
    "min_year = min(data, key=lambda x: x[0])[0]\n",
    "max_year = max(data, key=lambda x: x[0])[0]\n",
    "\n",
    "years = []\n",
    "for year in range(min_year, max_year + 1):\n",
    "    years.append(year)"
   ]
  },
  {
   "cell_type": "code",
   "execution_count": 30,
   "id": "e4050f91",
   "metadata": {},
   "outputs": [],
   "source": [
    "# Generate a list of [<year>, 0] \n",
    "attempts_per_year = []\n",
    "\n",
    "index = 0\n",
    "for year in years:\n",
    "    attempts_per_year.append([years[index], 0])\n",
    "    index += 1\n",
    "    "
   ]
  },
  {
   "cell_type": "code",
   "execution_count": 59,
   "id": "04b8f8b8",
   "metadata": {},
   "outputs": [
    {
     "name": "stdout",
     "output_type": "stream",
     "text": [
      "[[1971, 3], [1972, 0], [1973, 3], [1974, 0], [1975, 0], [1976, 0], [1977, 0], [1978, 3], [1979, 0], [1980, 0], [1981, 6], [1982, 0], [1983, 3], [1984, 0], [1985, 6], [1986, 9], [1987, 3], [1988, 3], [1989, 6], [1990, 3], [1991, 3], [1992, 6], [1993, 3], [1994, 0], [1995, 0], [1996, 3], [1997, 3], [1998, 0], [1999, 3], [2000, 6], [2001, 9], [2002, 6], [2003, 3], [2004, 0], [2005, 6], [2006, 3], [2007, 9], [2008, 0], [2009, 9], [2010, 3], [2011, 0], [2012, 3], [2013, 6], [2014, 3], [2015, 0], [2016, 3], [2017, 0], [2018, 3], [2019, 0], [2020, 3]]\n"
     ]
    }
   ],
   "source": [
    "# Loops over the data and determine the attempts per year\n",
    "for row in data:\n",
    "    for year_attempt in attempts_per_year: \n",
    "        year = year_attempt[0]\n",
    "        if row[0] == year:\n",
    "            year_attempt[1] += 1\n",
    "\n",
    "print(attempts_per_year)\n",
    "\n"
   ]
  },
  {
   "cell_type": "code",
   "execution_count": 60,
   "id": "ecc4f5ee",
   "metadata": {},
   "outputs": [
    {
     "name": "stdout",
     "output_type": "stream",
     "text": [
      "[1986, 2001, 2007, 2009]\n"
     ]
    }
   ],
   "source": [
    "# Answer to: Which year did the most attempts occur?\n",
    "yr_most_attempt = []\n",
    "max_num_attempt = 0\n",
    "\n",
    "for yr in attempts_per_year:\n",
    "    if yr[1] > max_num_attempt:\n",
    "        max_num_attempt = yr[1]\n",
    "\n",
    "for yr in attempts_per_year:\n",
    "    if yr[1] == max_num_attempt:\n",
    "        yr_most_attempt.append(yr[0])\n",
    "        \n",
    "print(yr_most_attempt)\n",
    "\n",
    "\n",
    "        \n",
    "        \n",
    "    "
   ]
  }
 ],
 "metadata": {
  "kernelspec": {
   "display_name": "Python 3 (ipykernel)",
   "language": "python",
   "name": "python3"
  },
  "language_info": {
   "codemirror_mode": {
    "name": "ipython",
    "version": 3
   },
   "file_extension": ".py",
   "mimetype": "text/x-python",
   "name": "python",
   "nbconvert_exporter": "python",
   "pygments_lexer": "ipython3",
   "version": "3.10.12"
  }
 },
 "nbformat": 4,
 "nbformat_minor": 5
}
